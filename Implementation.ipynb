{
  "nbformat": 4,
  "nbformat_minor": 0,
  "metadata": {
    "colab": {
      "name": "Implementation.ipynb",
      "provenance": [],
      "authorship_tag": "ABX9TyMfmW0JaOTjRCxIXhxtpomW"
    },
    "kernelspec": {
      "name": "python3",
      "display_name": "Python 3"
    },
    "language_info": {
      "name": "python"
    }
  },
  "cells": [
    {
      "cell_type": "code",
      "metadata": {
        "id": "cRjcFg97aqly"
      },
      "source": [
        "import tensorflow as tf\n",
        "import tensorflow_hub as hub\n",
        "import pandas as pd\n",
        "import numpy as np\n",
        "import Sastrawi"
      ],
      "execution_count": 1,
      "outputs": []
    },
    {
      "cell_type": "code",
      "metadata": {
        "colab": {
          "base_uri": "https://localhost:8080/"
        },
        "id": "NVU73e6CyBhD",
        "outputId": "5cb02d48-ef54-4fb9-97f3-90638d4a85ab"
      },
      "source": [
        "!pip install PySastrawi"
      ],
      "execution_count": 15,
      "outputs": [
        {
          "output_type": "stream",
          "text": [
            "Collecting PySastrawi\n",
            "\u001b[?25l  Downloading https://files.pythonhosted.org/packages/61/84/b0a5454a040f81e81e6a95a5d5635f20ad43cc0c288f8b4966b339084962/PySastrawi-1.2.0-py2.py3-none-any.whl (210kB)\n",
            "\r\u001b[K     |█▋                              | 10kB 13.1MB/s eta 0:00:01\r\u001b[K     |███▏                            | 20kB 17.8MB/s eta 0:00:01\r\u001b[K     |████▊                           | 30kB 12.6MB/s eta 0:00:01\r\u001b[K     |██████▎                         | 40kB 9.7MB/s eta 0:00:01\r\u001b[K     |███████▉                        | 51kB 10.5MB/s eta 0:00:01\r\u001b[K     |█████████▍                      | 61kB 7.1MB/s eta 0:00:01\r\u001b[K     |███████████                     | 71kB 7.8MB/s eta 0:00:01\r\u001b[K     |████████████▌                   | 81kB 8.4MB/s eta 0:00:01\r\u001b[K     |██████████████                  | 92kB 8.9MB/s eta 0:00:01\r\u001b[K     |███████████████▋                | 102kB 9.3MB/s eta 0:00:01\r\u001b[K     |█████████████████▏              | 112kB 9.3MB/s eta 0:00:01\r\u001b[K     |██████████████████▊             | 122kB 9.3MB/s eta 0:00:01\r\u001b[K     |████████████████████▎           | 133kB 9.3MB/s eta 0:00:01\r\u001b[K     |█████████████████████▉          | 143kB 9.3MB/s eta 0:00:01\r\u001b[K     |███████████████████████▍        | 153kB 9.3MB/s eta 0:00:01\r\u001b[K     |█████████████████████████       | 163kB 9.3MB/s eta 0:00:01\r\u001b[K     |██████████████████████████▌     | 174kB 9.3MB/s eta 0:00:01\r\u001b[K     |████████████████████████████    | 184kB 9.3MB/s eta 0:00:01\r\u001b[K     |█████████████████████████████▋  | 194kB 9.3MB/s eta 0:00:01\r\u001b[K     |███████████████████████████████▏| 204kB 9.3MB/s eta 0:00:01\r\u001b[K     |████████████████████████████████| 215kB 9.3MB/s \n",
            "\u001b[?25hInstalling collected packages: PySastrawi\n",
            "Successfully installed PySastrawi-1.2.0\n"
          ],
          "name": "stdout"
        }
      ]
    },
    {
      "cell_type": "code",
      "metadata": {
        "colab": {
          "base_uri": "https://localhost:8080/",
          "height": 204
        },
        "id": "Nl7b8_C3vdG8",
        "outputId": "e01a1252-84a2-47d2-9ac4-730b5e40330c"
      },
      "source": [
        "#DATASET SOURCE FROM https://github.com/dbrehmer/Knowself/blob/master/data/mypersonality/essays.csv\"\n",
        "#DATASET USED IN THIS NOTEBOOK IS DATASET FROM THE SOURCE THAT HAS BEEN TRANSLATED TO BAHASA INDONESIA USING GOOGLE TRANSLATE\n",
        "\n",
        "DATASET_URL = \"https://raw.githubusercontent.com/lazuardi100/Hexa-Engineer/ML/Dataset/dataset.csv\"\n",
        "df = pd.read_csv(DATASET_URL, sep =',')\n",
        "\n",
        "df.head()"
      ],
      "execution_count": 2,
      "outputs": [
        {
          "output_type": "execute_result",
          "data": {
            "text/html": [
              "<div>\n",
              "<style scoped>\n",
              "    .dataframe tbody tr th:only-of-type {\n",
              "        vertical-align: middle;\n",
              "    }\n",
              "\n",
              "    .dataframe tbody tr th {\n",
              "        vertical-align: top;\n",
              "    }\n",
              "\n",
              "    .dataframe thead th {\n",
              "        text-align: right;\n",
              "    }\n",
              "</style>\n",
              "<table border=\"1\" class=\"dataframe\">\n",
              "  <thead>\n",
              "    <tr style=\"text-align: right;\">\n",
              "      <th></th>\n",
              "      <th>#AUTHID</th>\n",
              "      <th>TTEXT</th>\n",
              "      <th>cEXT</th>\n",
              "      <th>cNEU</th>\n",
              "      <th>cAGR</th>\n",
              "      <th>cCON</th>\n",
              "      <th>cOPN</th>\n",
              "    </tr>\n",
              "  </thead>\n",
              "  <tbody>\n",
              "    <tr>\n",
              "      <th>0</th>\n",
              "      <td>1997_504851.txt</td>\n",
              "      <td>Nah, sekarang saya baru saja bangun dari tidur...</td>\n",
              "      <td>n</td>\n",
              "      <td>y</td>\n",
              "      <td>y</td>\n",
              "      <td>n</td>\n",
              "      <td>y</td>\n",
              "    </tr>\n",
              "    <tr>\n",
              "      <th>1</th>\n",
              "      <td>1997_605191.txt</td>\n",
              "      <td>Nah, di sini kita pergi dengan arus kesadaran ...</td>\n",
              "      <td>n</td>\n",
              "      <td>n</td>\n",
              "      <td>y</td>\n",
              "      <td>n</td>\n",
              "      <td>n</td>\n",
              "    </tr>\n",
              "    <tr>\n",
              "      <th>2</th>\n",
              "      <td>1997_687252.txt</td>\n",
              "      <td>Keyboard terbuka dan tombol untuk mendorong. H...</td>\n",
              "      <td>n</td>\n",
              "      <td>y</td>\n",
              "      <td>n</td>\n",
              "      <td>y</td>\n",
              "      <td>y</td>\n",
              "    </tr>\n",
              "    <tr>\n",
              "      <th>3</th>\n",
              "      <td>1997_568848.txt</td>\n",
              "      <td>Aku tidak percaya itu! Ini benar-benar terjadi...</td>\n",
              "      <td>y</td>\n",
              "      <td>n</td>\n",
              "      <td>y</td>\n",
              "      <td>y</td>\n",
              "      <td>n</td>\n",
              "    </tr>\n",
              "    <tr>\n",
              "      <th>4</th>\n",
              "      <td>1997_688160.txt</td>\n",
              "      <td>Nah, di sini aku pergi dengan aliran tua yang ...</td>\n",
              "      <td>y</td>\n",
              "      <td>n</td>\n",
              "      <td>y</td>\n",
              "      <td>n</td>\n",
              "      <td>y</td>\n",
              "    </tr>\n",
              "  </tbody>\n",
              "</table>\n",
              "</div>"
            ],
            "text/plain": [
              "           #AUTHID                                              TTEXT  ... cCON cOPN\n",
              "0  1997_504851.txt  Nah, sekarang saya baru saja bangun dari tidur...  ...    n    y\n",
              "1  1997_605191.txt  Nah, di sini kita pergi dengan arus kesadaran ...  ...    n    n\n",
              "2  1997_687252.txt  Keyboard terbuka dan tombol untuk mendorong. H...  ...    y    y\n",
              "3  1997_568848.txt  Aku tidak percaya itu! Ini benar-benar terjadi...  ...    y    n\n",
              "4  1997_688160.txt  Nah, di sini aku pergi dengan aliran tua yang ...  ...    n    y\n",
              "\n",
              "[5 rows x 7 columns]"
            ]
          },
          "metadata": {
            "tags": []
          },
          "execution_count": 2
        }
      ]
    },
    {
      "cell_type": "code",
      "metadata": {
        "colab": {
          "base_uri": "https://localhost:8080/"
        },
        "id": "KSa84m-fWk-m",
        "outputId": "48fa951a-d240-4ff8-d75f-8cff11f039d7"
      },
      "source": [
        "def changeLabel(labels):\n",
        "  for index, values in enumerate(labels.values):\n",
        "    if values == 'n':\n",
        "      labels[index] = 0\n",
        "    else:\n",
        "      labels[index] = 1\n",
        "  return labels\n",
        "\n",
        "changeLabel(df['cEXT'])\n",
        "changeLabel(df['cNEU'])\n",
        "changeLabel(df['cAGR'])\n",
        "changeLabel(df['cCON'])\n",
        "changeLabel(df['cOPN'])"
      ],
      "execution_count": 3,
      "outputs": [
        {
          "output_type": "execute_result",
          "data": {
            "text/plain": [
              "0       1\n",
              "1       0\n",
              "2       1\n",
              "3       0\n",
              "4       1\n",
              "       ..\n",
              "2462    0\n",
              "2463    1\n",
              "2464    0\n",
              "2465    1\n",
              "2466    1\n",
              "Name: cOPN, Length: 2467, dtype: object"
            ]
          },
          "metadata": {
            "tags": []
          },
          "execution_count": 3
        }
      ]
    },
    {
      "cell_type": "code",
      "metadata": {
        "id": "joE3yHq3uJ2U"
      },
      "source": [
        "#Text Preprocessing referenced from https://github.com/ksnugroho/basic-text-preprocessing/blob/master/text-preprocessing.ipynb\n",
        "import string\n",
        "from Sastrawi.StopWordRemover.StopWordRemoverFactory import StopWordRemoverFactory\n",
        "from Sastrawi.Stemmer.StemmerFactory import StemmerFactory\n",
        "\n",
        "def preprocess_text(texts):\n",
        "  for text in texts:\n",
        "    #lowercase all character in the text\n",
        "    text = text.lower()\n",
        "    #remove punctuation\n",
        "    text = text.translate(str.maketrans(\"\",\"\",string.punctuation))\n",
        "    #remove leading and trailing whitespace\n",
        "    text = text.strip()\n",
        "    #remove StopWord\n",
        "    stopword = StopWordRemoverFactory().create_stop_word_remover()\n",
        "    text = stopword.remove(text)\n",
        "    #stemming\n",
        "    stemmer = StemmerFactory().create_stemmer()\n",
        "    text = stemmer.stem(text)\n",
        "  \n",
        "  return texts\n",
        "\n",
        "df['TTEXT'] = preprocess_text(df['TTEXT'])"
      ],
      "execution_count": 23,
      "outputs": []
    },
    {
      "cell_type": "code",
      "metadata": {
        "id": "1ETSRWdeh74v"
      },
      "source": [
        "df = df.sample(frac=1)\n",
        "train_dataset, val_dataset, test_dataset = np.split(df, [int(.95 * len(df)), int(.975 * len(df))])"
      ],
      "execution_count": 37,
      "outputs": []
    },
    {
      "cell_type": "code",
      "metadata": {
        "id": "XpCdmoNPasJD"
      },
      "source": [
        "train_data = train_dataset['TTEXT']\n",
        "train_label_ext  = train_dataset['cEXT']\n",
        "train_label_neu  = train_dataset['cNEU']\n",
        "train_label_agr  = train_dataset['cAGR']\n",
        "train_label_con  = train_dataset['cCON']\n",
        "train_label_opn  = train_dataset['cOPN']\n",
        "\n",
        "val_data = val_dataset['TTEXT']\n",
        "val_label_ext  = val_dataset['cEXT']\n",
        "val_label_neu  = val_dataset['cNEU']\n",
        "val_label_agr  = val_dataset['cAGR']\n",
        "val_label_con  = val_dataset['cCON']\n",
        "val_label_opn  = val_dataset['cOPN']\n",
        "\n",
        "test_data = test_dataset['TTEXT']\n",
        "test_label_ext  = test_dataset['cEXT']\n",
        "test_label_neu  = test_dataset['cNEU']\n",
        "test_label_agr  = test_dataset['cAGR']\n",
        "test_label_con  = test_dataset['cCON']\n",
        "test_label_opn  = test_dataset['cOPN']"
      ],
      "execution_count": 38,
      "outputs": []
    },
    {
      "cell_type": "code",
      "metadata": {
        "id": "tQajvGJmViRb"
      },
      "source": [
        "from tensorflow.keras.preprocessing.text import Tokenizer\n",
        "from tensorflow.keras.preprocessing.sequence import pad_sequences\n",
        "\n",
        "#Tried to use parameter and model from the NLP Course by Deeplearning.ai\n",
        "vocab_size = 1000\n",
        "embedding_dim = 16\n",
        "max_length = 120\n",
        "trunc_type='post'\n",
        "padding_type='post'\n",
        "oov_tok = \"<OOV>\"\n",
        "training_size = 20000\n",
        "\n",
        "tokenizer = Tokenizer(num_words=vocab_size, oov_token=oov_tok)\n",
        "tokenizer.fit_on_texts(train_data)\n",
        "\n",
        "training_sequences = tokenizer.texts_to_sequences(train_data)\n",
        "training_padded = pad_sequences(training_sequences, maxlen=max_length, padding=padding_type, truncating=trunc_type)\n",
        "\n",
        "val_sequences = tokenizer.texts_to_sequences(val_data)\n",
        "val_padded = pad_sequences(val_sequences, maxlen=max_length, padding=padding_type, truncating=trunc_type)\n",
        "\n",
        "test_sequences = tokenizer.texts_to_sequences(test_data)\n",
        "test_padded = pad_sequences(test_sequences, maxlen=max_length, padding=padding_type, truncating=trunc_type)"
      ],
      "execution_count": 39,
      "outputs": []
    },
    {
      "cell_type": "code",
      "metadata": {
        "id": "8FmqfVpRvbVo"
      },
      "source": [
        "train_dataset_ext = tf.data.Dataset.from_tensor_slices((train_data.values, train_label_ext.values.astype(dtype=np.float32)))\n",
        "train_dataset_neu = tf.data.Dataset.from_tensor_slices((train_data.values, train_label_neu.values.astype(dtype=np.float32)))\n",
        "train_dataset_agr = tf.data.Dataset.from_tensor_slices((train_data.values, train_label_agr.values.astype(dtype=np.float32)))\n",
        "train_dataset_con = tf.data.Dataset.from_tensor_slices((train_data.values, train_label_con.values.astype(dtype=np.float32)))\n",
        "train_dataset_opn = tf.data.Dataset.from_tensor_slices((train_data.values, train_label_opn.values.astype(dtype=np.float32)))\n",
        "\n",
        "val_dataset_ext = tf.data.Dataset.from_tensor_slices((val_data.values, val_label_ext.values.astype(dtype=np.float32)))\n",
        "val_dataset_neu = tf.data.Dataset.from_tensor_slices((val_data.values, val_label_neu.values.astype(dtype=np.float32)))\n",
        "val_dataset_agr = tf.data.Dataset.from_tensor_slices((val_data.values, val_label_agr.values.astype(dtype=np.float32)))\n",
        "val_dataset_con = tf.data.Dataset.from_tensor_slices((val_data.values, val_label_con.values.astype(dtype=np.float32)))\n",
        "val_dataset_opn = tf.data.Dataset.from_tensor_slices((val_data.values, val_label_opn.values.astype(dtype=np.float32)))\n",
        "\n",
        "test_dataset_ext = tf.data.Dataset.from_tensor_slices((test_data.values, test_label_ext.values.astype(dtype=np.float32)))\n",
        "test_dataset_neu = tf.data.Dataset.from_tensor_slices((test_data.values, test_label_neu.values.astype(dtype=np.float32)))\n",
        "test_dataset_agr = tf.data.Dataset.from_tensor_slices((test_data.values, test_label_agr.values.astype(dtype=np.float32)))\n",
        "test_dataset_con = tf.data.Dataset.from_tensor_slices((test_data.values, test_label_con.values.astype(dtype=np.float32)))\n",
        "test_dataset_opn = tf.data.Dataset.from_tensor_slices((test_data.values, test_label_opn.values.astype(dtype=np.float32)))"
      ],
      "execution_count": 40,
      "outputs": []
    },
    {
      "cell_type": "code",
      "metadata": {
        "id": "z6Jp5BGiJnR9"
      },
      "source": [
        "embedding = \"https://tfhub.dev/google/nnlm-id-dim128/2\"\n",
        "\n",
        "hub_layer = hub.KerasLayer(embedding, input_shape=[], dtype=tf.string, trainable=True)\n",
        "\n",
        "model_ext = tf.keras.Sequential([\n",
        "        hub_layer,\n",
        "        tf.keras.layers.Dense(16, activation='relu'),\n",
        "        tf.keras.layers.Dropout(0.5),\n",
        "        tf.keras.layers.Dense(1, activation='sigmoid')])\n",
        "\n",
        "# model_ext = tf.keras.Sequential([\n",
        "#     tf.keras.layers.Embedding(vocab_size, embedding_dim, input_length=max_length),\n",
        "#     tf.keras.layers.Conv1D(128, 5, activation='relu'),\n",
        "#     tf.keras.layers.GlobalMaxPooling1D(),\n",
        "#     tf.keras.layers.Dense(24, activation='relu'),\n",
        "#     tf.keras.layers.Dense(1, activation='sigmoid')\n",
        "# ])"
      ],
      "execution_count": 41,
      "outputs": []
    },
    {
      "cell_type": "code",
      "metadata": {
        "id": "Xv_v-4e-TORd"
      },
      "source": [
        "batch_size = 128\n",
        "num_examples = tf.data.experimental.cardinality(train_dataset_ext).numpy()\n",
        "ext_batches = train_dataset_ext.shuffle(num_examples // 4).batch(batch_size).prefetch(1)\n",
        "val_batches = val_dataset_ext.batch(batch_size).prefetch(1)"
      ],
      "execution_count": 42,
      "outputs": []
    },
    {
      "cell_type": "code",
      "metadata": {
        "colab": {
          "base_uri": "https://localhost:8080/"
        },
        "id": "B4G3sVX9Tzur",
        "outputId": "c9e80076-ba3f-47af-9c16-571d4c6be40e"
      },
      "source": [
        "model_ext.compile(optimizer=tf.keras.optimizers.Adam(learning_rate = 0.0001),\n",
        "              loss='binary_crossentropy',\n",
        "              metrics=['accuracy'])\n",
        "\n",
        "history = model_ext.fit(ext_batches,\n",
        "                        validation_data=val_batches,\n",
        "                        epochs=15)"
      ],
      "execution_count": 43,
      "outputs": [
        {
          "output_type": "stream",
          "text": [
            "Epoch 1/15\n",
            "19/19 [==============================] - 78s 1s/step - loss: 0.7301 - accuracy: 0.5096 - val_loss: 0.6910 - val_accuracy: 0.5323\n",
            "Epoch 2/15\n",
            "19/19 [==============================] - 21s 1s/step - loss: 0.6915 - accuracy: 0.5262 - val_loss: 0.6917 - val_accuracy: 0.5323\n",
            "Epoch 3/15\n",
            "19/19 [==============================] - 21s 1s/step - loss: 0.6871 - accuracy: 0.5164 - val_loss: 0.6865 - val_accuracy: 0.5323\n",
            "Epoch 4/15\n",
            "19/19 [==============================] - 21s 1s/step - loss: 0.6659 - accuracy: 0.5297 - val_loss: 0.6864 - val_accuracy: 0.5484\n",
            "Epoch 5/15\n",
            "19/19 [==============================] - 21s 1s/step - loss: 0.6324 - accuracy: 0.6342 - val_loss: 0.6604 - val_accuracy: 0.6613\n",
            "Epoch 6/15\n",
            "19/19 [==============================] - 23s 1s/step - loss: 0.5805 - accuracy: 0.6914 - val_loss: 0.6354 - val_accuracy: 0.6290\n",
            "Epoch 7/15\n",
            "19/19 [==============================] - 21s 1s/step - loss: 0.5154 - accuracy: 0.7576 - val_loss: 0.6914 - val_accuracy: 0.5645\n",
            "Epoch 8/15\n",
            "19/19 [==============================] - 21s 1s/step - loss: 0.4822 - accuracy: 0.7665 - val_loss: 0.8703 - val_accuracy: 0.6935\n",
            "Epoch 9/15\n",
            "19/19 [==============================] - 21s 1s/step - loss: 0.4301 - accuracy: 0.8199 - val_loss: 0.9609 - val_accuracy: 0.7097\n",
            "Epoch 10/15\n",
            "19/19 [==============================] - 21s 1s/step - loss: 0.2949 - accuracy: 0.8843 - val_loss: 1.1196 - val_accuracy: 0.6129\n",
            "Epoch 11/15\n",
            "19/19 [==============================] - 21s 1s/step - loss: 0.1926 - accuracy: 0.9279 - val_loss: 1.5351 - val_accuracy: 0.6129\n",
            "Epoch 12/15\n",
            "19/19 [==============================] - 21s 1s/step - loss: 0.1095 - accuracy: 0.9624 - val_loss: 1.8046 - val_accuracy: 0.6452\n",
            "Epoch 13/15\n",
            "19/19 [==============================] - 21s 1s/step - loss: 0.0470 - accuracy: 0.9859 - val_loss: 2.2454 - val_accuracy: 0.5968\n",
            "Epoch 14/15\n",
            "19/19 [==============================] - 21s 1s/step - loss: 0.0394 - accuracy: 0.9880 - val_loss: 2.2417 - val_accuracy: 0.6290\n",
            "Epoch 15/15\n",
            "19/19 [==============================] - 21s 1s/step - loss: 0.0117 - accuracy: 0.9974 - val_loss: 3.1248 - val_accuracy: 0.6290\n"
          ],
          "name": "stdout"
        }
      ]
    },
    {
      "cell_type": "code",
      "metadata": {
        "id": "UNk5BhY1n98j"
      },
      "source": [
        ""
      ],
      "execution_count": null,
      "outputs": []
    }
  ]
}