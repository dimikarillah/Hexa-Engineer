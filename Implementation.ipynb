{
  "nbformat": 4,
  "nbformat_minor": 0,
  "metadata": {
    "colab": {
      "name": "Implementation.ipynb",
      "provenance": [],
      "authorship_tag": "ABX9TyNFxv84VCOVvJ9VXhh//sZb"
    },
    "kernelspec": {
      "name": "python3",
      "display_name": "Python 3"
    },
    "language_info": {
      "name": "python"
    }
  },
  "cells": [
    {
      "cell_type": "code",
      "metadata": {
        "id": "tL_AcL88Xv2r"
      },
      "source": [
        "try:\n",
        "    %tensorflow_version 2.x\n",
        "except:\n",
        "    pass"
      ],
      "execution_count": null,
      "outputs": []
    },
    {
      "cell_type": "code",
      "metadata": {
        "id": "cRjcFg97aqly"
      },
      "source": [
        "import tensorflow as tf\n",
        "import tensorflow_hub as hub\n",
        "import pandas as pd\n",
        "import numpy as np"
      ],
      "execution_count": 1,
      "outputs": []
    },
    {
      "cell_type": "code",
      "metadata": {
        "colab": {
          "base_uri": "https://localhost:8080/",
          "height": 204
        },
        "id": "Nl7b8_C3vdG8",
        "outputId": "469a6eae-26b0-4cdd-96ba-d89e0ff46c0b"
      },
      "source": [
        "#DATASET SOURCE FROM https://github.com/dbrehmer/Knowself/blob/master/data/mypersonality/essays.csv\"\n",
        "#DATASET USED IN THIS NOTEBOOK IS DATASET FROM THE SOURCE THAT HAS BEEN TRANSLATED TO BAHASA INDONESIA USING GOOGLE TRANSLATE\n",
        "\n",
        "DATASET_URL = \"https://raw.githubusercontent.com/lazuardi100/Hexa-Engineer/ML/Dataset/dataset.csv\"\n",
        "df = pd.read_csv(DATASET_URL, sep =',')\n",
        "\n",
        "df.head()"
      ],
      "execution_count": 2,
      "outputs": [
        {
          "output_type": "execute_result",
          "data": {
            "text/html": [
              "<div>\n",
              "<style scoped>\n",
              "    .dataframe tbody tr th:only-of-type {\n",
              "        vertical-align: middle;\n",
              "    }\n",
              "\n",
              "    .dataframe tbody tr th {\n",
              "        vertical-align: top;\n",
              "    }\n",
              "\n",
              "    .dataframe thead th {\n",
              "        text-align: right;\n",
              "    }\n",
              "</style>\n",
              "<table border=\"1\" class=\"dataframe\">\n",
              "  <thead>\n",
              "    <tr style=\"text-align: right;\">\n",
              "      <th></th>\n",
              "      <th>#AUTHID</th>\n",
              "      <th>TTEXT</th>\n",
              "      <th>cEXT</th>\n",
              "      <th>cNEU</th>\n",
              "      <th>cAGR</th>\n",
              "      <th>cCON</th>\n",
              "      <th>cOPN</th>\n",
              "    </tr>\n",
              "  </thead>\n",
              "  <tbody>\n",
              "    <tr>\n",
              "      <th>0</th>\n",
              "      <td>1997_504851.txt</td>\n",
              "      <td>Nah, sekarang saya baru saja bangun dari tidur...</td>\n",
              "      <td>n</td>\n",
              "      <td>y</td>\n",
              "      <td>y</td>\n",
              "      <td>n</td>\n",
              "      <td>y</td>\n",
              "    </tr>\n",
              "    <tr>\n",
              "      <th>1</th>\n",
              "      <td>1997_605191.txt</td>\n",
              "      <td>Nah, di sini kita pergi dengan arus kesadaran ...</td>\n",
              "      <td>n</td>\n",
              "      <td>n</td>\n",
              "      <td>y</td>\n",
              "      <td>n</td>\n",
              "      <td>n</td>\n",
              "    </tr>\n",
              "    <tr>\n",
              "      <th>2</th>\n",
              "      <td>1997_687252.txt</td>\n",
              "      <td>Keyboard terbuka dan tombol untuk mendorong. H...</td>\n",
              "      <td>n</td>\n",
              "      <td>y</td>\n",
              "      <td>n</td>\n",
              "      <td>y</td>\n",
              "      <td>y</td>\n",
              "    </tr>\n",
              "    <tr>\n",
              "      <th>3</th>\n",
              "      <td>1997_568848.txt</td>\n",
              "      <td>Aku tidak percaya itu! Ini benar-benar terjadi...</td>\n",
              "      <td>y</td>\n",
              "      <td>n</td>\n",
              "      <td>y</td>\n",
              "      <td>y</td>\n",
              "      <td>n</td>\n",
              "    </tr>\n",
              "    <tr>\n",
              "      <th>4</th>\n",
              "      <td>1997_688160.txt</td>\n",
              "      <td>Nah, di sini aku pergi dengan aliran tua yang ...</td>\n",
              "      <td>y</td>\n",
              "      <td>n</td>\n",
              "      <td>y</td>\n",
              "      <td>n</td>\n",
              "      <td>y</td>\n",
              "    </tr>\n",
              "  </tbody>\n",
              "</table>\n",
              "</div>"
            ],
            "text/plain": [
              "           #AUTHID                                              TTEXT  ... cCON cOPN\n",
              "0  1997_504851.txt  Nah, sekarang saya baru saja bangun dari tidur...  ...    n    y\n",
              "1  1997_605191.txt  Nah, di sini kita pergi dengan arus kesadaran ...  ...    n    n\n",
              "2  1997_687252.txt  Keyboard terbuka dan tombol untuk mendorong. H...  ...    y    y\n",
              "3  1997_568848.txt  Aku tidak percaya itu! Ini benar-benar terjadi...  ...    y    n\n",
              "4  1997_688160.txt  Nah, di sini aku pergi dengan aliran tua yang ...  ...    n    y\n",
              "\n",
              "[5 rows x 7 columns]"
            ]
          },
          "metadata": {
            "tags": []
          },
          "execution_count": 2
        }
      ]
    },
    {
      "cell_type": "code",
      "metadata": {
        "id": "XpCdmoNPasJD"
      },
      "source": [
        "data = df['TTEXT']\n",
        "label_ext  = df['cEXT']\n",
        "label_neu  = df['cNEU']\n",
        "label_agr  = df['cAGR']\n",
        "label_con  = df['cCON']\n",
        "label_opn  = df['cOPN']"
      ],
      "execution_count": 3,
      "outputs": []
    },
    {
      "cell_type": "code",
      "metadata": {
        "id": "7Qqcid1g0DWR"
      },
      "source": [
        "def changeLabel(labels):\n",
        "  for index, values in enumerate(labels.values):\n",
        "    if values == 'n':\n",
        "      labels[index] = 0\n",
        "    else:\n",
        "      labels[index] = 1\n",
        "  return labels\n",
        "\n",
        "label_ext = changeLabel(label_ext)\n",
        "label_neu = changeLabel(label_neu)\n",
        "label_agr = changeLabel(label_agr)\n",
        "label_con = changeLabel(label_con)\n",
        "label_opn = changeLabel(label_opn)"
      ],
      "execution_count": 4,
      "outputs": []
    },
    {
      "cell_type": "code",
      "metadata": {
        "id": "8FmqfVpRvbVo"
      },
      "source": [
        "dataset_ext = tf.data.Dataset.from_tensor_slices((data.values, label_ext.values.astype(dtype=np.float32)))\n",
        "dataset_neu = tf.data.Dataset.from_tensor_slices((data.values, label_neu.values.astype(dtype=np.float32)))\n",
        "dataset_agr = tf.data.Dataset.from_tensor_slices((data.values, label_agr.values.astype(dtype=np.float32)))\n",
        "dataset_con = tf.data.Dataset.from_tensor_slices((data.values, label_con.values.astype(dtype=np.float32)))\n",
        "dataset_opn = tf.data.Dataset.from_tensor_slices((data.values, label_opn.values.astype(dtype=np.float32)))"
      ],
      "execution_count": 5,
      "outputs": []
    },
    {
      "cell_type": "code",
      "metadata": {
        "id": "-dGtFDez84-c",
        "colab": {
          "base_uri": "https://localhost:8080/"
        },
        "outputId": "23eb531b-6cf9-4f60-eec8-f287f685e360"
      },
      "source": [
        "for text,target in dataset_ext.take(1):\n",
        "  print('Text : {} , Target ; {}'.format(text,target))"
      ],
      "execution_count": 6,
      "outputs": [
        {
          "output_type": "stream",
          "text": [
            "Text : b'Nah, sekarang saya baru saja bangun dari tidur siang tengah hari. Ini semacam aneh, tapi sejak saya pindah ke Texas, saya memiliki masalah berkonsentrasi pada hal-hal. Aku ingat mulai pekerjaan rumah saya di kelas 10 secepat jam berdentang 4 dan tidak berhenti sampai hal itu dilakukan. Tentu saja itu mudah, tapi aku masih melakukannya. Tapi ketika saya pindah ke sini, pekerjaan rumah mendapat sedikit lebih menantang dan ada lebih banyak pekerjaan sibuk, dan jadi saya memutuskan untuk tidak menghabiskan berjam-jam melakukannya, dan hanya mendapatkan oleh. Tapi masalahnya adalah bahwa saya selalu membayar perhatian di kelas dan hanya biasa keluar tahu barang-barang, dan sekarang aku melihat kembali, jika saya benar-benar bekerja keras dan tinggal di melacak dua tahun terakhir tanpa mendapatkan malas, saya akan jenius , tapi hei, itu semua baik. Sudah terlambat untuk memperbaiki masa lalu, tapi saya tidak benar-benar tahu bagaimana untuk tetap fokus n masa depan. Satu hal yang saya tahu adalah bahwa ketika orang mengatakan bahwa b / c mereka tinggal di kampus mereka tidak bisa berkonsentrasi, itu b. s. Bagi saya itu akan lebih mudah di sana, tapi sayangnya, aku tinggal di rumah di bawah pengawasan ketat dari orang tua saya dan sedikit sebuah omelan adik yang hanya mengomeli dan mengomeli dan mengomeli. Anda mendapatkan titik. Hal lain adalah, adalah bahwa itu hanya merepotkan harus pergi semua kembali perjalanan ke sekolah hanya untuk pergi ke perpustakaan untuk belajar. Saya perlu pindah, tapi saya tidak tahu bagaimana untuk memberitahu mereka. Jangan salah, saya melihat di mana mereka datang dari dan mengapa mereka tidak ingin aku pindah, tapi aku harus pergi dan berada di saya sendiri. Mereka terlindung saya begitu banyak dan saya tidak memiliki kekhawatiran di dunia. Satu-satunya hal yang mereka meminta saya untuk melakukan yaitu menjaga kamar saya bersih dan bantuan dengan bisnis sesekali, tapi aku bahkan tidak bisa melakukan itu. Tapi aku harus. Tapi saya punya cukup uang dari UT ke hidup di asrama atau apartemen semester berikutnya dan saya pikir saya akan mengambil keuntungan dari itu. Tapi off topik yang sekarang, saya pergi ke jalan keenam tadi malam dan memiliki ledakan. Saya belum ada di begitu lama. Sekarang aku tahu mengapa aku mencintai Austin begitu banyak. Ketika saya tinggal di VA, saya digunakan untuk pergi ke DC sepanjang waktu dan memiliki ledakan, tapi di sini, ada begitu banyak siswa berlarian di malam hari. Aku hanya ingin bersenang-senang dan saya tahu bahwa saya cukup bertanggung jawab untuk dapat bersenang-senang, tapi tetap prioritas saya lurus. Tinggal di rumah, saya tidak bisa keluar sama sekali tanpa mereka bertanya di mana? dengan siapa? Mengapa? kapan kau kembali? dan semua pertanyaan mereka. Aku hanya berharap aku bisa diperlakukan seperti orang yang bertanggung jawab untuk sekali, tapi adikku kacau yang untuk saya. Dia pergi gila kedua dia pindah ke perguruan tinggi dan kacau karir seluruh perguruan tinggi dengan berpesta terlalu banyak. Dan itulah alasan utama bahwa mereka tidak ingin saya pergi dan bersenang-senang. Tapi aku tidak kecil lagi, dan mereka perlu untuk membiarkan saya pergi dan menjelajahi dunia, tapi aku India; dengan budaya India, dengan nilai-nilai India. Mereka melawan \"bersenang-senang.\" Maksudku dalam arti bertemu orang-orang atau pacaran dengan orang atau berpesta atau sekadar bersenang-senang. Sekolah saya sulit sudah, tapi entah kenapa aku berpikir bahwa memiliki lebih banyak kebebasan akan menempatkan lebih banyak tekanan pada saya untuk berbuat lebih baik di sekolah b / c itu yang orang tua saya dan akhirnya saya harapkan dari diri saya sendiri. Nah itu sudah menyenangkan menulis, saya tidak tahu jika Anda pergi apa pun dari tulisan ini, tetapi membantu saya mendapatkan beberapa pikiran saya ke dalam urutan. Jadi saya harap Anda bersenang-senang membacanya dan keberuntungan TA.' , Target ; 0.0\n"
          ],
          "name": "stdout"
        }
      ]
    },
    {
      "cell_type": "code",
      "metadata": {
        "id": "z6Jp5BGiJnR9"
      },
      "source": [
        "embedding = \"https://tfhub.dev/google/nnlm-id-dim128/2\"\n",
        "\n",
        "hub_layer = hub.KerasLayer(embedding, input_shape=[], dtype=tf.string, trainable=True)\n",
        "\n",
        "model_ext = tf.keras.Sequential([\n",
        "        hub_layer,\n",
        "        tf.keras.layers.Dense(16, activation='relu'),\n",
        "        tf.keras.layers.Dense(1, activation='sigmoid')])"
      ],
      "execution_count": 10,
      "outputs": []
    },
    {
      "cell_type": "code",
      "metadata": {
        "id": "Xv_v-4e-TORd"
      },
      "source": [
        "batch_size = 512\n",
        "\n",
        "ext_batches = dataset_ext.batch(batch_size).prefetch(1)"
      ],
      "execution_count": 11,
      "outputs": []
    },
    {
      "cell_type": "code",
      "metadata": {
        "colab": {
          "base_uri": "https://localhost:8080/"
        },
        "id": "B4G3sVX9Tzur",
        "outputId": "cdf13c94-c2c8-4d87-d817-f39b06c507cd"
      },
      "source": [
        "model_ext.compile(optimizer='adam',\n",
        "              loss='binary_crossentropy',\n",
        "              metrics=['accuracy'])\n",
        "\n",
        "history = model_ext.fit(ext_batches,\n",
        "                    epochs=20)"
      ],
      "execution_count": 12,
      "outputs": [
        {
          "output_type": "stream",
          "text": [
            "Epoch 1/20\n",
            "5/5 [==============================] - 8s 1s/step - loss: 0.6937 - accuracy: 0.5036\n",
            "Epoch 2/20\n",
            "5/5 [==============================] - 6s 1s/step - loss: 0.6755 - accuracy: 0.5867\n",
            "Epoch 3/20\n",
            "5/5 [==============================] - 6s 1s/step - loss: 0.6590 - accuracy: 0.6947\n",
            "Epoch 4/20\n",
            "5/5 [==============================] - 6s 1s/step - loss: 0.6426 - accuracy: 0.7279\n",
            "Epoch 5/20\n",
            "5/5 [==============================] - 6s 1s/step - loss: 0.6253 - accuracy: 0.7523\n",
            "Epoch 6/20\n",
            "5/5 [==============================] - 6s 1s/step - loss: 0.6053 - accuracy: 0.7747\n",
            "Epoch 7/20\n",
            "5/5 [==============================] - 6s 1s/step - loss: 0.5827 - accuracy: 0.7817\n",
            "Epoch 8/20\n",
            "5/5 [==============================] - 6s 1s/step - loss: 0.5563 - accuracy: 0.8078\n",
            "Epoch 9/20\n",
            "5/5 [==============================] - 6s 1s/step - loss: 0.5270 - accuracy: 0.8350\n",
            "Epoch 10/20\n",
            "5/5 [==============================] - 6s 1s/step - loss: 0.4946 - accuracy: 0.8632\n",
            "Epoch 11/20\n",
            "5/5 [==============================] - 6s 1s/step - loss: 0.4605 - accuracy: 0.8861\n",
            "Epoch 12/20\n",
            "5/5 [==============================] - 6s 1s/step - loss: 0.4246 - accuracy: 0.9157\n",
            "Epoch 13/20\n",
            "5/5 [==============================] - 6s 1s/step - loss: 0.3883 - accuracy: 0.9329\n",
            "Epoch 14/20\n",
            "5/5 [==============================] - 6s 1s/step - loss: 0.3522 - accuracy: 0.9441\n",
            "Epoch 15/20\n",
            "5/5 [==============================] - 6s 1s/step - loss: 0.3168 - accuracy: 0.9538\n",
            "Epoch 16/20\n",
            "5/5 [==============================] - 6s 1s/step - loss: 0.2827 - accuracy: 0.9601\n",
            "Epoch 17/20\n",
            "5/5 [==============================] - 6s 1s/step - loss: 0.2502 - accuracy: 0.9668\n",
            "Epoch 18/20\n",
            "5/5 [==============================] - 6s 1s/step - loss: 0.2205 - accuracy: 0.9748\n",
            "Epoch 19/20\n",
            "5/5 [==============================] - 6s 1s/step - loss: 0.1946 - accuracy: 0.9828\n",
            "Epoch 20/20\n",
            "5/5 [==============================] - 6s 1s/step - loss: 0.1708 - accuracy: 0.9882\n"
          ],
          "name": "stdout"
        }
      ]
    },
    {
      "cell_type": "code",
      "metadata": {
        "id": "wjUlkXTNT6QW"
      },
      "source": [
        ""
      ],
      "execution_count": null,
      "outputs": []
    }
  ]
}