{
  "nbformat": 4,
  "nbformat_minor": 0,
  "metadata": {
    "colab": {
      "name": "Implementation.ipynb",
      "provenance": [],
      "authorship_tag": "ABX9TyPs7PaL8NadN6NKyP0B+cqq"
    },
    "kernelspec": {
      "name": "python3",
      "display_name": "Python 3"
    },
    "language_info": {
      "name": "python"
    }
  },
  "cells": [
    {
      "cell_type": "code",
      "metadata": {
        "colab": {
          "base_uri": "https://localhost:8080/"
        },
        "id": "NVU73e6CyBhD",
        "outputId": "54f04ebb-4a2b-472e-9f5d-030bef488c4c"
      },
      "source": [
        "!pip install PySastrawi"
      ],
      "execution_count": 1,
      "outputs": [
        {
          "output_type": "stream",
          "text": [
            "Collecting PySastrawi\n",
            "\u001b[?25l  Downloading https://files.pythonhosted.org/packages/61/84/b0a5454a040f81e81e6a95a5d5635f20ad43cc0c288f8b4966b339084962/PySastrawi-1.2.0-py2.py3-none-any.whl (210kB)\n",
            "\r\u001b[K     |█▋                              | 10kB 13.9MB/s eta 0:00:01\r\u001b[K     |███▏                            | 20kB 19.3MB/s eta 0:00:01\r\u001b[K     |████▊                           | 30kB 11.1MB/s eta 0:00:01\r\u001b[K     |██████▎                         | 40kB 8.7MB/s eta 0:00:01\r\u001b[K     |███████▉                        | 51kB 5.5MB/s eta 0:00:01\r\u001b[K     |█████████▍                      | 61kB 6.2MB/s eta 0:00:01\r\u001b[K     |███████████                     | 71kB 6.5MB/s eta 0:00:01\r\u001b[K     |████████████▌                   | 81kB 6.3MB/s eta 0:00:01\r\u001b[K     |██████████████                  | 92kB 6.2MB/s eta 0:00:01\r\u001b[K     |███████████████▋                | 102kB 6.7MB/s eta 0:00:01\r\u001b[K     |█████████████████▏              | 112kB 6.7MB/s eta 0:00:01\r\u001b[K     |██████████████████▊             | 122kB 6.7MB/s eta 0:00:01\r\u001b[K     |████████████████████▎           | 133kB 6.7MB/s eta 0:00:01\r\u001b[K     |█████████████████████▉          | 143kB 6.7MB/s eta 0:00:01\r\u001b[K     |███████████████████████▍        | 153kB 6.7MB/s eta 0:00:01\r\u001b[K     |█████████████████████████       | 163kB 6.7MB/s eta 0:00:01\r\u001b[K     |██████████████████████████▌     | 174kB 6.7MB/s eta 0:00:01\r\u001b[K     |████████████████████████████    | 184kB 6.7MB/s eta 0:00:01\r\u001b[K     |█████████████████████████████▋  | 194kB 6.7MB/s eta 0:00:01\r\u001b[K     |███████████████████████████████▏| 204kB 6.7MB/s eta 0:00:01\r\u001b[K     |████████████████████████████████| 215kB 6.7MB/s \n",
            "\u001b[?25hInstalling collected packages: PySastrawi\n",
            "Successfully installed PySastrawi-1.2.0\n"
          ],
          "name": "stdout"
        }
      ]
    },
    {
      "cell_type": "code",
      "metadata": {
        "id": "cuiLFZ5PS4Sn"
      },
      "source": [
        "import tensorflow as tf\n",
        "import tensorflow_hub as hub\n",
        "import pandas as pd\n",
        "import numpy as np\n",
        "import Sastrawi"
      ],
      "execution_count": 2,
      "outputs": []
    },
    {
      "cell_type": "code",
      "metadata": {
        "colab": {
          "base_uri": "https://localhost:8080/",
          "height": 204
        },
        "id": "Nl7b8_C3vdG8",
        "outputId": "9093f2b0-2808-484c-e9f9-2d9c66484d8d"
      },
      "source": [
        "#DATASET SOURCE FROM https://github.com/dbrehmer/Knowself/blob/master/data/mypersonality/essays.csv\"\n",
        "#DATASET USED IN THIS NOTEBOOK IS DATASET FROM THE SOURCE THAT HAS BEEN TRANSLATED TO BAHASA INDONESIA USING GOOGLE TRANSLATE\n",
        "\n",
        "DATASET_URL = \"https://raw.githubusercontent.com/lazuardi100/Hexa-Engineer/ML/Dataset/dataset.csv\"\n",
        "df = pd.read_csv(DATASET_URL, sep =',')\n",
        "\n",
        "df.head()"
      ],
      "execution_count": 3,
      "outputs": [
        {
          "output_type": "execute_result",
          "data": {
            "text/html": [
              "<div>\n",
              "<style scoped>\n",
              "    .dataframe tbody tr th:only-of-type {\n",
              "        vertical-align: middle;\n",
              "    }\n",
              "\n",
              "    .dataframe tbody tr th {\n",
              "        vertical-align: top;\n",
              "    }\n",
              "\n",
              "    .dataframe thead th {\n",
              "        text-align: right;\n",
              "    }\n",
              "</style>\n",
              "<table border=\"1\" class=\"dataframe\">\n",
              "  <thead>\n",
              "    <tr style=\"text-align: right;\">\n",
              "      <th></th>\n",
              "      <th>#AUTHID</th>\n",
              "      <th>TTEXT</th>\n",
              "      <th>cEXT</th>\n",
              "      <th>cNEU</th>\n",
              "      <th>cAGR</th>\n",
              "      <th>cCON</th>\n",
              "      <th>cOPN</th>\n",
              "    </tr>\n",
              "  </thead>\n",
              "  <tbody>\n",
              "    <tr>\n",
              "      <th>0</th>\n",
              "      <td>1997_504851.txt</td>\n",
              "      <td>Nah, sekarang saya baru saja bangun dari tidur...</td>\n",
              "      <td>n</td>\n",
              "      <td>y</td>\n",
              "      <td>y</td>\n",
              "      <td>n</td>\n",
              "      <td>y</td>\n",
              "    </tr>\n",
              "    <tr>\n",
              "      <th>1</th>\n",
              "      <td>1997_605191.txt</td>\n",
              "      <td>Nah, di sini kita pergi dengan arus kesadaran ...</td>\n",
              "      <td>n</td>\n",
              "      <td>n</td>\n",
              "      <td>y</td>\n",
              "      <td>n</td>\n",
              "      <td>n</td>\n",
              "    </tr>\n",
              "    <tr>\n",
              "      <th>2</th>\n",
              "      <td>1997_687252.txt</td>\n",
              "      <td>Keyboard terbuka dan tombol untuk mendorong. H...</td>\n",
              "      <td>n</td>\n",
              "      <td>y</td>\n",
              "      <td>n</td>\n",
              "      <td>y</td>\n",
              "      <td>y</td>\n",
              "    </tr>\n",
              "    <tr>\n",
              "      <th>3</th>\n",
              "      <td>1997_568848.txt</td>\n",
              "      <td>Aku tidak percaya itu! Ini benar-benar terjadi...</td>\n",
              "      <td>y</td>\n",
              "      <td>n</td>\n",
              "      <td>y</td>\n",
              "      <td>y</td>\n",
              "      <td>n</td>\n",
              "    </tr>\n",
              "    <tr>\n",
              "      <th>4</th>\n",
              "      <td>1997_688160.txt</td>\n",
              "      <td>Nah, di sini aku pergi dengan aliran tua yang ...</td>\n",
              "      <td>y</td>\n",
              "      <td>n</td>\n",
              "      <td>y</td>\n",
              "      <td>n</td>\n",
              "      <td>y</td>\n",
              "    </tr>\n",
              "  </tbody>\n",
              "</table>\n",
              "</div>"
            ],
            "text/plain": [
              "           #AUTHID                                              TTEXT  ... cCON cOPN\n",
              "0  1997_504851.txt  Nah, sekarang saya baru saja bangun dari tidur...  ...    n    y\n",
              "1  1997_605191.txt  Nah, di sini kita pergi dengan arus kesadaran ...  ...    n    n\n",
              "2  1997_687252.txt  Keyboard terbuka dan tombol untuk mendorong. H...  ...    y    y\n",
              "3  1997_568848.txt  Aku tidak percaya itu! Ini benar-benar terjadi...  ...    y    n\n",
              "4  1997_688160.txt  Nah, di sini aku pergi dengan aliran tua yang ...  ...    n    y\n",
              "\n",
              "[5 rows x 7 columns]"
            ]
          },
          "metadata": {
            "tags": []
          },
          "execution_count": 3
        }
      ]
    },
    {
      "cell_type": "code",
      "metadata": {
        "colab": {
          "base_uri": "https://localhost:8080/"
        },
        "id": "KSa84m-fWk-m",
        "outputId": "f49cc4ed-1250-4969-eaa7-29046ca77d09"
      },
      "source": [
        "def changeLabel(labels):\n",
        "  for index, values in enumerate(labels.values):\n",
        "    if values == 'n':\n",
        "      labels[index] = 0\n",
        "    else:\n",
        "      labels[index] = 1\n",
        "  return labels\n",
        "\n",
        "changeLabel(df['cEXT'])\n",
        "changeLabel(df['cNEU'])\n",
        "changeLabel(df['cAGR'])\n",
        "changeLabel(df['cCON'])\n",
        "changeLabel(df['cOPN'])"
      ],
      "execution_count": 4,
      "outputs": [
        {
          "output_type": "execute_result",
          "data": {
            "text/plain": [
              "0       1\n",
              "1       0\n",
              "2       1\n",
              "3       0\n",
              "4       1\n",
              "       ..\n",
              "2462    0\n",
              "2463    1\n",
              "2464    0\n",
              "2465    1\n",
              "2466    1\n",
              "Name: cOPN, Length: 2467, dtype: object"
            ]
          },
          "metadata": {
            "tags": []
          },
          "execution_count": 4
        }
      ]
    },
    {
      "cell_type": "code",
      "metadata": {
        "id": "joE3yHq3uJ2U"
      },
      "source": [
        "#Text Preprocessing referenced from https://github.com/ksnugroho/basic-text-preprocessing/blob/master/text-preprocessing.ipynb\n",
        "import string\n",
        "from Sastrawi.StopWordRemover.StopWordRemoverFactory import StopWordRemoverFactory\n",
        "from Sastrawi.Stemmer.StemmerFactory import StemmerFactory\n",
        "\n",
        "def preprocess_text(text):\n",
        "  #lowercase all character in the text\n",
        "  text = text.lower()\n",
        "  #remove punctuation\n",
        "  text = text.translate(str.maketrans(\"\",\"\",string.punctuation))\n",
        "  #remove leading and trailing whitespace\n",
        "  text = text.strip()\n",
        "  #remove StopWord\n",
        "  stopword = StopWordRemoverFactory().create_stop_word_remover()\n",
        "  text = stopword.remove(text)\n",
        "  #stemming\n",
        "  stemmer = StemmerFactory().create_stemmer()\n",
        "  text = stemmer.stem(text)\n",
        "  return text\n",
        "\n",
        "df['TTEXT'] = df['TTEXT'].map(preprocess_text)"
      ],
      "execution_count": 5,
      "outputs": []
    },
    {
      "cell_type": "code",
      "metadata": {
        "id": "1ETSRWdeh74v"
      },
      "source": [
        "df = df.sample(frac=1)\n",
        "train_dataset, val_dataset, test_dataset = np.split(df, [int(.95 * len(df)), int(.975 * len(df))])"
      ],
      "execution_count": 6,
      "outputs": []
    },
    {
      "cell_type": "code",
      "metadata": {
        "id": "XpCdmoNPasJD"
      },
      "source": [
        "train_data = train_dataset['TTEXT']\n",
        "train_label_ext  = train_dataset['cEXT']\n",
        "train_label_neu  = train_dataset['cNEU']\n",
        "train_label_agr  = train_dataset['cAGR']\n",
        "train_label_con  = train_dataset['cCON']\n",
        "train_label_opn  = train_dataset['cOPN']\n",
        "\n",
        "val_data = val_dataset['TTEXT']\n",
        "val_label_ext  = val_dataset['cEXT']\n",
        "val_label_neu  = val_dataset['cNEU']\n",
        "val_label_agr  = val_dataset['cAGR']\n",
        "val_label_con  = val_dataset['cCON']\n",
        "val_label_opn  = val_dataset['cOPN']\n",
        "\n",
        "test_data = test_dataset['TTEXT']\n",
        "test_label_ext  = test_dataset['cEXT']\n",
        "test_label_neu  = test_dataset['cNEU']\n",
        "test_label_agr  = test_dataset['cAGR']\n",
        "test_label_con  = test_dataset['cCON']\n",
        "test_label_opn  = test_dataset['cOPN']"
      ],
      "execution_count": 7,
      "outputs": []
    },
    {
      "cell_type": "code",
      "metadata": {
        "colab": {
          "base_uri": "https://localhost:8080/"
        },
        "id": "OFyERvg9QVvQ",
        "outputId": "df0849df-71d6-49a8-b712-ac431eeb056e"
      },
      "source": [
        "#Exploring Data\n",
        "\n",
        "import statistics\n",
        "word_counts = []\n",
        "for data in train_data:\n",
        "  word_count = len(data.split())\n",
        "  word_counts.append(word_count)\n",
        "print(\"mean: \",statistics.mean(word_counts))\n",
        "print(\"median: \",statistics.median(word_counts))\n",
        "print(\"max: \",max(word_counts))\n",
        "print(\"min: \",min(word_counts))"
      ],
      "execution_count": 8,
      "outputs": [
        {
          "output_type": "stream",
          "text": [
            "mean:  199.14127187366623\n",
            "median:  190\n",
            "max:  714\n",
            "min:  8\n"
          ],
          "name": "stdout"
        }
      ]
    },
    {
      "cell_type": "code",
      "metadata": {
        "id": "DChg_jGfKgm4"
      },
      "source": [
        "from tensorflow.keras.preprocessing.text import Tokenizer\n",
        "from tensorflow.keras.preprocessing.sequence import pad_sequences\n",
        "\n",
        "#Tried to use parameter and model from the NLP Course by Deeplearning.ai\n",
        "vocab_size = 10000\n",
        "embedding_dim = 16\n",
        "max_length = 600\n",
        "trunc_type='post'\n",
        "padding_type='post'\n",
        "oov_tok = \"<OOV>\"\n",
        "training_size = 20000\n",
        "\n",
        "tokenizer = Tokenizer(num_words=vocab_size, oov_token=oov_tok)\n",
        "tokenizer.fit_on_texts(train_data)\n",
        "\n",
        "training_sequences = tokenizer.texts_to_sequences(train_data)\n",
        "training_padded = pad_sequences(training_sequences, maxlen=max_length, padding=padding_type, truncating=trunc_type)\n",
        "\n",
        "val_sequences = tokenizer.texts_to_sequences(val_data)\n",
        "val_padded = pad_sequences(val_sequences, maxlen=max_length, padding=padding_type, truncating=trunc_type)\n",
        "\n",
        "test_sequences = tokenizer.texts_to_sequences(test_data)\n",
        "test_padded = pad_sequences(test_sequences, maxlen=max_length, padding=padding_type, truncating=trunc_type)"
      ],
      "execution_count": 9,
      "outputs": []
    },
    {
      "cell_type": "code",
      "metadata": {
        "id": "8FmqfVpRvbVo"
      },
      "source": [
        "#Create Data Pipeline\n",
        "\n",
        "train_dataset_ext_2 = tf.data.Dataset.from_tensor_slices((training_padded, train_label_ext.values.astype(dtype=np.float32)))\n",
        "train_dataset_ext = tf.data.Dataset.from_tensor_slices((train_data.values, train_label_ext.values.astype(dtype=np.float32)))\n",
        "train_dataset_neu = tf.data.Dataset.from_tensor_slices((train_data.values, train_label_neu.values.astype(dtype=np.float32)))\n",
        "train_dataset_agr = tf.data.Dataset.from_tensor_slices((train_data.values, train_label_agr.values.astype(dtype=np.float32)))\n",
        "train_dataset_con = tf.data.Dataset.from_tensor_slices((train_data.values, train_label_con.values.astype(dtype=np.float32)))\n",
        "train_dataset_opn = tf.data.Dataset.from_tensor_slices((train_data.values, train_label_opn.values.astype(dtype=np.float32)))\n",
        "\n",
        "val_dataset_ext_2 = tf.data.Dataset.from_tensor_slices((val_padded, val_label_ext.values.astype(dtype=np.float32)))\n",
        "val_dataset_ext = tf.data.Dataset.from_tensor_slices((val_data.values, val_label_ext.values.astype(dtype=np.float32)))\n",
        "val_dataset_neu = tf.data.Dataset.from_tensor_slices((val_data.values, val_label_neu.values.astype(dtype=np.float32)))\n",
        "val_dataset_agr = tf.data.Dataset.from_tensor_slices((val_data.values, val_label_agr.values.astype(dtype=np.float32)))\n",
        "val_dataset_con = tf.data.Dataset.from_tensor_slices((val_data.values, val_label_con.values.astype(dtype=np.float32)))\n",
        "val_dataset_opn = tf.data.Dataset.from_tensor_slices((val_data.values, val_label_opn.values.astype(dtype=np.float32)))\n",
        "\n",
        "test_dataset_ext_2 = tf.data.Dataset.from_tensor_slices((test_padded, test_label_ext.values.astype(dtype=np.float32)))\n",
        "test_dataset_ext = tf.data.Dataset.from_tensor_slices((test_data.values, test_label_ext.values.astype(dtype=np.float32)))\n",
        "test_dataset_neu = tf.data.Dataset.from_tensor_slices((test_data.values, test_label_neu.values.astype(dtype=np.float32)))\n",
        "test_dataset_agr = tf.data.Dataset.from_tensor_slices((test_data.values, test_label_agr.values.astype(dtype=np.float32)))\n",
        "test_dataset_con = tf.data.Dataset.from_tensor_slices((test_data.values, test_label_con.values.astype(dtype=np.float32)))\n",
        "test_dataset_opn = tf.data.Dataset.from_tensor_slices((test_data.values, test_label_opn.values.astype(dtype=np.float32)))"
      ],
      "execution_count": 10,
      "outputs": []
    },
    {
      "cell_type": "code",
      "metadata": {
        "id": "z6Jp5BGiJnR9"
      },
      "source": [
        "embedding = \"https://tfhub.dev/google/nnlm-id-dim128/2\"\n",
        "\n",
        "hub_layer = hub.KerasLayer(embedding, input_shape=[], dtype=tf.string, trainable=True)\n",
        "\n",
        "model_ext = tf.keras.Sequential([\n",
        "        hub_layer,\n",
        "        tf.keras.layers.Lambda(lambda x: tf.expand_dims(x, 1)),\n",
        "        tf.keras.layers.Bidirectional(tf.keras.layers.LSTM(32,return_sequences=True)),\n",
        "        tf.keras.layers.Bidirectional(tf.keras.layers.LSTM(16)),\n",
        "        tf.keras.layers.Dense(16, activation='relu'),\n",
        "        tf.keras.layers.Dropout(0.5),\n",
        "        tf.keras.layers.Dense(1, activation='sigmoid')])\n",
        "\n",
        "model_ext_2 = tf.keras.Sequential([\n",
        "    tf.keras.layers.Embedding(vocab_size, embedding_dim, input_length=max_length),\n",
        "    tf.keras.layers.Conv1D(128, 5, activation='relu'),\n",
        "    tf.keras.layers.GlobalMaxPooling1D(),\n",
        "    tf.keras.layers.Dense(24, activation='relu'),\n",
        "    tf.keras.layers.Dense(1, activation='sigmoid')\n",
        "])\n",
        "\n",
        "model_ext_3 = tf.keras.Sequential([\n",
        "    tf.keras.layers.Embedding(vocab_size, embedding_dim, input_length=max_length),\n",
        "    tf.keras.layers.Bidirectional(tf.keras.layers.LSTM(32,return_sequences=True)),\n",
        "    tf.keras.layers.Bidirectional(tf.keras.layers.LSTM(16)),\n",
        "    tf.keras.layers.Dense(24, activation='relu'),\n",
        "    tf.keras.layers.Dense(1, activation='sigmoid')\n",
        "])"
      ],
      "execution_count": 20,
      "outputs": []
    },
    {
      "cell_type": "code",
      "metadata": {
        "colab": {
          "base_uri": "https://localhost:8080/"
        },
        "id": "lsyrW_WhBldD",
        "outputId": "46beb15c-fb80-47e0-a9bf-a89dafe4b124"
      },
      "source": [
        "model_ext.summary()"
      ],
      "execution_count": 12,
      "outputs": [
        {
          "output_type": "stream",
          "text": [
            "Model: \"sequential\"\n",
            "_________________________________________________________________\n",
            "Layer (type)                 Output Shape              Param #   \n",
            "=================================================================\n",
            "keras_layer (KerasLayer)     (None, 128)               112461824 \n",
            "_________________________________________________________________\n",
            "lambda (Lambda)              (None, 1, 128)            0         \n",
            "_________________________________________________________________\n",
            "bidirectional (Bidirectional (None, 1, 64)             41216     \n",
            "_________________________________________________________________\n",
            "bidirectional_1 (Bidirection (None, 32)                10368     \n",
            "_________________________________________________________________\n",
            "dense (Dense)                (None, 16)                528       \n",
            "_________________________________________________________________\n",
            "dropout (Dropout)            (None, 16)                0         \n",
            "_________________________________________________________________\n",
            "dense_1 (Dense)              (None, 1)                 17        \n",
            "=================================================================\n",
            "Total params: 112,513,953\n",
            "Trainable params: 112,513,953\n",
            "Non-trainable params: 0\n",
            "_________________________________________________________________\n"
          ],
          "name": "stdout"
        }
      ]
    },
    {
      "cell_type": "code",
      "metadata": {
        "id": "Xv_v-4e-TORd"
      },
      "source": [
        "batch_size = 128\n",
        "num_examples = tf.data.experimental.cardinality(train_dataset_ext).numpy()\n",
        "\n",
        "ext_batches = train_dataset_ext.shuffle(num_examples // 4).batch(batch_size).prefetch(1)\n",
        "ext_batches_2 = train_dataset_ext_2.shuffle(num_examples // 4).batch(batch_size).prefetch(1)\n",
        "\n",
        "val_batches = val_dataset_ext.batch(batch_size).prefetch(1)\n",
        "val_batches_2 = val_dataset_ext_2.batch(batch_size).prefetch(1)\n",
        "\n",
        "test_batches = test_dataset_ext.batch(batch_size)"
      ],
      "execution_count": 19,
      "outputs": []
    },
    {
      "cell_type": "code",
      "metadata": {
        "id": "SEazN7XmDivb"
      },
      "source": [
        "class highAccCallback(tf.keras.callbacks.Callback):\n",
        "  def on_epoch_end(self, epoch, logs={}):\n",
        "    if(logs.get('accuracy')>0.95):\n",
        "      print(\"\\nReached 95% accuracy so cancelling training!\")\n",
        "      self.model.stop_training = True\n",
        "\n",
        "class lowAccCallback(tf.keras.callbacks.Callback):\n",
        "  def on_epoch_end(self, epoch, logs={}):\n",
        "    if(epoch > 10 and logs.get('accuracy')<0.60):\n",
        "      print(\"\\Didn't reach 75% accuracy after 10 epochs so cancelling training\")\n",
        "      self.model.stop_training = True\n",
        "callbacks = [highAccCallback(),lowAccCallback()]"
      ],
      "execution_count": 14,
      "outputs": []
    },
    {
      "cell_type": "code",
      "metadata": {
        "colab": {
          "base_uri": "https://localhost:8080/"
        },
        "id": "B4G3sVX9Tzur",
        "outputId": "75f08dcb-443f-44a3-d8e9-d7d6ee6e2018"
      },
      "source": [
        "# model_ext.compile(optimizer=tf.keras.optimizers.Adam(),\n",
        "#               loss='binary_crossentropy',\n",
        "#               metrics=['accuracy'])\n",
        "# model_ext_2.compile(optimizer=tf.keras.optimizers.Adam(),\n",
        "#               loss='binary_crossentropy',\n",
        "#               metrics=['accuracy'])\n",
        "# model_ext_3.compile(optimizer=tf.keras.optimizers.Adam(),\n",
        "#               loss='binary_crossentropy',\n",
        "#               metrics=['accuracy'])\n",
        "\n",
        "\n",
        "\n",
        "history = model_ext.fit(ext_batches,\n",
        "                        validation_data=val_batches,\n",
        "                        epochs=25,\n",
        "                        callbacks=callbacks\n",
        "                        )\n",
        "# history_2 = model_ext_2.fit(ext_batches_2,\n",
        "#                         validation_data=val_batches_2,\n",
        "#                         epochs=25,\n",
        "#                         callbacks=callbacks\n",
        "#                         )\n",
        "# history_3 = model_ext_3.fit(ext_batches_2,\n",
        "#                         validation_data=val_batches_2,\n",
        "#                         epochs=25,\n",
        "#                         callbacks=callbacks\n",
        "#                         )"
      ],
      "execution_count": 22,
      "outputs": [
        {
          "output_type": "stream",
          "text": [
            "Epoch 1/25\n",
            "19/19 [==============================] - 29s 1s/step - loss: 0.6929 - accuracy: 0.5096 - val_loss: 0.6889 - val_accuracy: 0.5645\n",
            "Epoch 2/25\n",
            "19/19 [==============================] - 21s 1s/step - loss: 0.6901 - accuracy: 0.5250 - val_loss: 0.6837 - val_accuracy: 0.6129\n",
            "Epoch 3/25\n",
            "19/19 [==============================] - 21s 1s/step - loss: 0.6801 - accuracy: 0.5890 - val_loss: 0.6759 - val_accuracy: 0.6452\n",
            "Epoch 4/25\n",
            "19/19 [==============================] - 21s 1s/step - loss: 0.6540 - accuracy: 0.6146 - val_loss: 0.6899 - val_accuracy: 0.5806\n",
            "Epoch 5/25\n",
            "19/19 [==============================] - 21s 1s/step - loss: 0.5368 - accuracy: 0.7537 - val_loss: 0.8429 - val_accuracy: 0.4677\n",
            "Epoch 6/25\n",
            "19/19 [==============================] - 21s 1s/step - loss: 0.3528 - accuracy: 0.8720 - val_loss: 1.1597 - val_accuracy: 0.4516\n",
            "Epoch 7/25\n",
            "19/19 [==============================] - 21s 1s/step - loss: 0.1909 - accuracy: 0.9462 - val_loss: 1.6058 - val_accuracy: 0.4516\n",
            "Epoch 8/25\n",
            "19/19 [==============================] - 21s 1s/step - loss: 0.0869 - accuracy: 0.9770 - val_loss: 2.0478 - val_accuracy: 0.4839\n",
            "\n",
            "Reached 95% accuracy so cancelling training!\n"
          ],
          "name": "stdout"
        }
      ]
    },
    {
      "cell_type": "code",
      "metadata": {
        "colab": {
          "base_uri": "https://localhost:8080/"
        },
        "id": "9tmMljAepY9O",
        "outputId": "517a5277-d738-421f-a54d-c19c5a6fce95"
      },
      "source": [
        "result = model_ext.evaluate(test_batches)"
      ],
      "execution_count": null,
      "outputs": [
        {
          "output_type": "stream",
          "text": [
            "1/1 [==============================] - 0s 29ms/step - loss: 6.0140 - accuracy: 0.5161\n"
          ],
          "name": "stdout"
        }
      ]
    },
    {
      "cell_type": "code",
      "metadata": {
        "id": "hao-CixcpzEm",
        "colab": {
          "base_uri": "https://localhost:8080/",
          "height": 544
        },
        "outputId": "98b6704b-5c6a-4c1b-cfe3-d942bd446ccc"
      },
      "source": [
        "import matplotlib.pyplot as plt\n",
        "\n",
        "\n",
        "def plot_graphs(history, string):\n",
        "  plt.plot(history.history[string])\n",
        "  plt.plot(history.history['val_'+string])\n",
        "  plt.xlabel(\"Epochs\")\n",
        "  plt.ylabel(string)\n",
        "  plt.legend([string, 'val_'+string])\n",
        "  plt.show()\n",
        "\n",
        "plot_graphs(history, 'accuracy')\n",
        "plot_graphs(history, 'loss')"
      ],
      "execution_count": 23,
      "outputs": [
        {
          "output_type": "display_data",
          "data": {
            "image/png": "[encoded data removed]",
            "text/plain": [
              "<Figure size 432x288 with 1 Axes>"
            ]
          },
          "metadata": {
            "tags": [],
            "needs_background": "light"
          }
        },
        {
          "output_type": "display_data",
          "data": {
            "image/png": "[encoded data removed]",
            "text/plain": [
              "<Figure size 432x288 with 1 Axes>"
            ]
          },
          "metadata": {
            "tags": [],
            "needs_background": "light"
          }
        }
      ]
    },
    {
      "cell_type": "code",
      "metadata": {
        "id": "OUzEt7Vy97gF",
        "colab": {
          "base_uri": "https://localhost:8080/",
          "height": 541
        },
        "outputId": "5a0c84d5-c7d1-4c95-cf23-42108f0a4eb1"
      },
      "source": [
        "plot_graphs(history_2, 'accuracy')\n",
        "plot_graphs(history_2, 'loss')"
      ],
      "execution_count": 24,
      "outputs": [
        {
          "output_type": "display_data",
          "data": {
            "image/png": "[encoded data removed]",
            "text/plain": [
              "<Figure size 432x288 with 1 Axes>"
            ]
          },
          "metadata": {
            "tags": [],
            "needs_background": "light"
          }
        },
        {
          "output_type": "display_data",
          "data": {
            "image/png": "[encoded data removed]",
            "text/plain": [
              "<Figure size 432x288 with 1 Axes>"
            ]
          },
          "metadata": {
            "tags": [],
            "needs_background": "light"
          }
        }
      ]
    },
    {
      "cell_type": "code",
      "metadata": {
        "colab": {
          "base_uri": "https://localhost:8080/",
          "height": 541
        },
        "id": "k_efqftoNsra",
        "outputId": "7ea60547-5235-444f-b59f-5fbc8dbede9c"
      },
      "source": [
        "plot_graphs(history_3, 'accuracy')\n",
        "plot_graphs(history_3, 'loss')"
      ],
      "execution_count": 25,
      "outputs": [
        {
          "output_type": "display_data",
          "data": {
            "image/png": "[encoded data removed]",
            "text/plain": [
              "<Figure size 432x288 with 1 Axes>"
            ]
          },
          "metadata": {
            "tags": [],
            "needs_background": "light"
          }
        },
        {
          "output_type": "display_data",
          "data": {
            "image/png": "[encoded data removed]",
            "text/plain": [
              "<Figure size 432x288 with 1 Axes>"
            ]
          },
          "metadata": {
            "tags": [],
            "needs_background": "light"
          }
        }
      ]
    },
    {
      "cell_type": "code",
      "metadata": {
        "id": "qJbsLqSYOZJO"
      },
      "source": [
        ""
      ],
      "execution_count": null,
      "outputs": []
    },
    {
      "cell_type": "code",
      "metadata": {
        "id": "uI1Xw-Ael8iy"
      },
      "source": [
        ""
      ],
      "execution_count": null,
      "outputs": []
    }
  ]
}