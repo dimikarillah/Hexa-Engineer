{
  "nbformat": 4,
  "nbformat_minor": 0,
  "metadata": {
    "colab": {
      "name": "Implementation.ipynb",
      "provenance": [],
      "authorship_tag": "ABX9TyN9aADirU2QvHI9K+5aKuEa",
      "include_colab_link": true
    },
    "kernelspec": {
      "name": "python3",
      "display_name": "Python 3"
    },
    "language_info": {
      "name": "python"
    }
  },
  "cells": [
    {
      "cell_type": "markdown",
      "metadata": {
        "id": "view-in-github",
        "colab_type": "text"
      },
      "source": [
        "<a href=\"https://colab.research.google.com/github/lazuardi100/Hexa-Engineer/blob/ML/Implementation.ipynb\" target=\"_parent\"><img src=\"https://colab.research.google.com/assets/colab-badge.svg\" alt=\"Open In Colab\"/></a>"
      ]
    },
    {
      "cell_type": "code",
      "metadata": {
        "id": "tL_AcL88Xv2r"
      },
      "source": [
        "try:\n",
        "    %tensorflow_version 2.x\n",
        "except:\n",
        "    pass"
      ],
      "execution_count": 1,
      "outputs": []
    },
    {
      "cell_type": "code",
      "metadata": {
        "id": "cRjcFg97aqly"
      },
      "source": [
        "import tensorflow as tf\n",
        "import tensorflow_hub as hub\n",
        "import pandas as pd\n",
        "import numpy as np"
      ],
      "execution_count": 75,
      "outputs": []
    },
    {
      "cell_type": "code",
      "metadata": {
        "colab": {
          "base_uri": "https://localhost:8080/",
          "height": 204
        },
        "id": "Nl7b8_C3vdG8",
        "outputId": "2768ee12-782c-4cfc-980a-cb5f6c444846"
      },
      "source": [
        "#DATASET SOURCE FROM https://github.com/dbrehmer/Knowself/blob/master/data/mypersonality/essays.csv\"\n",
        "#DATASET USED IN THIS NOTEBOOK IS DATASET FROM THE SOURCE THAT HAS BEEN TRANSLATED TO BAHASA INDONESIA USING GOOGLE TRANSLATE\n",
        "\n",
        "DATASET_URL = \"https://raw.githubusercontent.com/lazuardi100/Hexa-Engineer/ML/Dataset/dataset.csv\"\n",
        "df = pd.read_csv(DATASET_URL, sep =',')\n",
        "\n",
        "df.head()"
      ],
      "execution_count": 52,
      "outputs": [
        {
          "output_type": "execute_result",
          "data": {
            "text/html": [
              "<div>\n",
              "<style scoped>\n",
              "    .dataframe tbody tr th:only-of-type {\n",
              "        vertical-align: middle;\n",
              "    }\n",
              "\n",
              "    .dataframe tbody tr th {\n",
              "        vertical-align: top;\n",
              "    }\n",
              "\n",
              "    .dataframe thead th {\n",
              "        text-align: right;\n",
              "    }\n",
              "</style>\n",
              "<table border=\"1\" class=\"dataframe\">\n",
              "  <thead>\n",
              "    <tr style=\"text-align: right;\">\n",
              "      <th></th>\n",
              "      <th>#AUTHID</th>\n",
              "      <th>TTEXT</th>\n",
              "      <th>cEXT</th>\n",
              "      <th>cNEU</th>\n",
              "      <th>cAGR</th>\n",
              "      <th>cCON</th>\n",
              "      <th>cOPN</th>\n",
              "    </tr>\n",
              "  </thead>\n",
              "  <tbody>\n",
              "    <tr>\n",
              "      <th>0</th>\n",
              "      <td>1997_504851.txt</td>\n",
              "      <td>Nah, sekarang saya baru saja bangun dari tidur...</td>\n",
              "      <td>n</td>\n",
              "      <td>y</td>\n",
              "      <td>y</td>\n",
              "      <td>n</td>\n",
              "      <td>y</td>\n",
              "    </tr>\n",
              "    <tr>\n",
              "      <th>1</th>\n",
              "      <td>1997_605191.txt</td>\n",
              "      <td>Nah, di sini kita pergi dengan arus kesadaran ...</td>\n",
              "      <td>n</td>\n",
              "      <td>n</td>\n",
              "      <td>y</td>\n",
              "      <td>n</td>\n",
              "      <td>n</td>\n",
              "    </tr>\n",
              "    <tr>\n",
              "      <th>2</th>\n",
              "      <td>1997_687252.txt</td>\n",
              "      <td>Keyboard terbuka dan tombol untuk mendorong. H...</td>\n",
              "      <td>n</td>\n",
              "      <td>y</td>\n",
              "      <td>n</td>\n",
              "      <td>y</td>\n",
              "      <td>y</td>\n",
              "    </tr>\n",
              "    <tr>\n",
              "      <th>3</th>\n",
              "      <td>1997_568848.txt</td>\n",
              "      <td>Aku tidak percaya itu! Ini benar-benar terjadi...</td>\n",
              "      <td>y</td>\n",
              "      <td>n</td>\n",
              "      <td>y</td>\n",
              "      <td>y</td>\n",
              "      <td>n</td>\n",
              "    </tr>\n",
              "    <tr>\n",
              "      <th>4</th>\n",
              "      <td>1997_688160.txt</td>\n",
              "      <td>Nah, di sini aku pergi dengan aliran tua yang ...</td>\n",
              "      <td>y</td>\n",
              "      <td>n</td>\n",
              "      <td>y</td>\n",
              "      <td>n</td>\n",
              "      <td>y</td>\n",
              "    </tr>\n",
              "  </tbody>\n",
              "</table>\n",
              "</div>"
            ],
            "text/plain": [
              "           #AUTHID                                              TTEXT  ... cCON cOPN\n",
              "0  1997_504851.txt  Nah, sekarang saya baru saja bangun dari tidur...  ...    n    y\n",
              "1  1997_605191.txt  Nah, di sini kita pergi dengan arus kesadaran ...  ...    n    n\n",
              "2  1997_687252.txt  Keyboard terbuka dan tombol untuk mendorong. H...  ...    y    y\n",
              "3  1997_568848.txt  Aku tidak percaya itu! Ini benar-benar terjadi...  ...    y    n\n",
              "4  1997_688160.txt  Nah, di sini aku pergi dengan aliran tua yang ...  ...    n    y\n",
              "\n",
              "[5 rows x 7 columns]"
            ]
          },
          "metadata": {
            "tags": []
          },
          "execution_count": 52
        }
      ]
    },
    {
      "cell_type": "code",
      "metadata": {
        "id": "XpCdmoNPasJD"
      },
      "source": [
        "data = df['TTEXT']\n",
        "label_ext  = df['cEXT']\n",
        "label_neu  = df['cNEU']\n",
        "label_agr  = df['cAGR']\n",
        "label_con  = df['cCON']\n",
        "label_opn  = df['cOPN']"
      ],
      "execution_count": 66,
      "outputs": []
    },
    {
      "cell_type": "code",
      "metadata": {
        "id": "7Qqcid1g0DWR"
      },
      "source": [
        "def changeLabel(labels):\n",
        "  for index, values in enumerate(labels.values):\n",
        "    if values == 'n':\n",
        "      labels[index] = 0\n",
        "    else:\n",
        "      labels[index] = 1\n",
        "  return labels\n",
        "\n",
        "label_ext = changeLabel(label_ext)\n",
        "label_neu = changeLabel(label_neu)\n",
        "label_agr = changeLabel(label_agr)\n",
        "label_con = changeLabel(label_con)\n",
        "label_opn = changeLabel(label_opn)"
      ],
      "execution_count": 67,
      "outputs": []
    },
    {
      "cell_type": "code",
      "metadata": {
        "id": "8FmqfVpRvbVo"
      },
      "source": [
        "dataset_ext = tf.data.Dataset.from_tensor_slices((data.values, label_ext.values.astype(dtype=np.float32)))\n",
        "dataset_neu = tf.data.Dataset.from_tensor_slices((data.values, label_neu.values.astype(dtype=np.float32)))\n",
        "dataset_agr = tf.data.Dataset.from_tensor_slices((data.values, label_agr.values.astype(dtype=np.float32)))\n",
        "dataset_con = tf.data.Dataset.from_tensor_slices((data.values, label_con.values.astype(dtype=np.float32)))\n",
        "dataset_opn = tf.data.Dataset.from_tensor_slices((data.values, label_opn.values.astype(dtype=np.float32)))"
      ],
      "execution_count": 79,
      "outputs": []
    }
  ]
}